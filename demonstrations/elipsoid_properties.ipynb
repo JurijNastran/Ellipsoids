{
 "cells": [
  {
   "cell_type": "markdown",
   "metadata": {},
   "source": [
    "# HyperElipsoid Properties\n",
    "\n",
    "This is more of a playground file.\n",
    "\n",
    "Here the random points are plotted."
   ]
  },
  {
   "cell_type": "code",
   "execution_count": 68,
   "metadata": {},
   "outputs": [],
   "source": [
    "# to plot outside the notebook:\n",
    "# %matplotlib qt \n",
    "\n",
    "# how to draw inside the notebook:\n",
    "%matplotlib inline\n",
    "\n",
    "import random\n",
    "import scipy.stats as st\n",
    "import numpy as np\n",
    "import math\n",
    "from math import gamma, pi\n",
    "import time\n",
    "import scipy\n",
    "import matplotlib.pyplot as plt\n",
    "from matplotlib.patches import Ellipse\n",
    "import numpy.random as rnd"
   ]
  },
  {
   "cell_type": "markdown",
   "metadata": {},
   "source": [
    "As a summary, we have already said that the equation for the volume of an n-dimensional Elipsoid is:\n",
    "\n",
    "$$\n",
    "V\\left( x_1, x_2, \\dots x_i, \\dots x_n \\right) = \\frac{\\pi^{\\frac{n}{2}}}{\\Gamma \\left( \\frac{n}{2} + 1 \\right)}\\prod_{i=1}^{n} x_i\n",
    "$$\n",
    "\n",
    "Where The Gamma function is defined as:\n",
    "\n",
    "$$\n",
    "\\Gamma \\left( x \\right) = \\int\\limits_0^\\infty {s^{x - 1} e^{ - s} ds}\n",
    "$$\n",
    "\n",
    "And the hyperelipsoid is defined as: \n",
    "\n",
    "$$\n",
    "\\frac{x_1^2}{r_1^2} + \\frac{x_2^2}{r_2^2} + \\dots + \\frac{x_n^2}{r_n^2} = 1\n",
    "$$"
   ]
  },
  {
   "cell_type": "code",
   "execution_count": 69,
   "metadata": {},
   "outputs": [
    {
     "name": "stdout",
     "output_type": "stream",
     "text": [
      "[20. 20. 20. 20.]\n",
      "[49.80439994 24.41421727 50.85129169 29.52787622]\n"
     ]
    }
   ],
   "source": [
    "def getAllSpansEqual(numOfDims, spanForAll):\n",
    "    return np.ones(numOfDims)*spanForAll\n",
    "\n",
    "print(getAllSpansEqual(4, 20))\n",
    "\n",
    "def getRandomUniformSpans(numOfDims, low, high):\n",
    "    return np.random.rand(numOfDims)*(high-low) + low\n",
    "    \n",
    "print( getRandomUniformSpans(4, 10, 60) )"
   ]
  },
  {
   "cell_type": "code",
   "execution_count": 70,
   "metadata": {},
   "outputs": [
    {
     "name": "stdout",
     "output_type": "stream",
     "text": [
      "160000.0\n"
     ]
    }
   ],
   "source": [
    "def getVolumeHypercube(params):\n",
    "    # vdims = params.size\n",
    "    # print(dims)\n",
    "    return np.prod(params)\n",
    "\n",
    "print(getVolumeHypercube(getAllSpansEqual(4, 20)))"
   ]
  },
  {
   "cell_type": "code",
   "execution_count": 71,
   "metadata": {},
   "outputs": [
    {
     "name": "stdout",
     "output_type": "stream",
     "text": [
      "49348.022005446786\n"
     ]
    }
   ],
   "source": [
    "def getVolumeElipsoid(params):\n",
    "    nDims = params.size\n",
    "    # print(nDims)\n",
    "    params /= 2\n",
    "    return pow(pi, (nDims/2)) / gamma(nDims/2 + 1) * np.prod(params)\n",
    "\n",
    "print(getVolumeElipsoid(getAllSpansEqual(4, 20)))"
   ]
  },
  {
   "cell_type": "markdown",
   "metadata": {},
   "source": [
    "Given the standard definition of the hyperellipsoid, let us define a function determining if a point is inside the body: \n",
    "\n",
    "$$\n",
    "\\frac{x_1^2}{r_1^2} + \\frac{x_2^2}{r_2^2} + \\dots + \\frac{x_n^2}{r_n^2} = \n",
    "\\left( \\frac{x_1}{r_1} \\right)^2 + \\left( \\frac{x_2}{r_2} \\right)^2 + \\dots + \\left( \\frac{x_n}{r_n} \\right)^2 \\leq 1\n",
    "$$"
   ]
  },
  {
   "cell_type": "code",
   "execution_count": 72,
   "metadata": {},
   "outputs": [],
   "source": [
    "def isInElipsoid(points, elipsoidParameters):\n",
    "    # points is a d x num_p numpy matrix where d is the number of dimensions and num_p is the number of points.\n",
    "    # elipsoidParameters is an d-dimensional array, where each element is the RADIUS of the axis.\n",
    "    d = np.size(elipsoidParameters)\n",
    "    elipsoidParameters.shape=(d,1) \n",
    "    return np.sum(np.square(np.divide(points,elipsoidParameters)),0) <= 1"
   ]
  },
  {
   "cell_type": "code",
   "execution_count": 73,
   "metadata": {},
   "outputs": [
    {
     "name": "stdout",
     "output_type": "stream",
     "text": [
      "[1 3]\n",
      "[[1.   1.01 0.5  0.  ]\n",
      " [0.   0.   2.   3.01]]\n",
      "[ True False  True False]\n"
     ]
    }
   ],
   "source": [
    "points = np.array([[1,1.01,0.5,0],[0,0,2,3.01]]) # three points\n",
    "elipsoidParameters = np.array([1,3])\n",
    "print(elipsoidParameters)\n",
    "print(points)\n",
    "print(isInElipsoid(points, elipsoidParameters))"
   ]
  },
  {
   "cell_type": "code",
   "execution_count": 74,
   "metadata": {},
   "outputs": [],
   "source": [
    "def visualizeEllipse( ep, points ):\n",
    "    \n",
    "    e = Ellipse(xy=[0,0], width=ep[0]*2, height=ep[1]*2, angle=0, edgecolor='b', lw=2, facecolor ='none')\n",
    "\n",
    "    fig = plt.figure()\n",
    "    ax = fig.add_subplot(111, aspect='equal')\n",
    "\n",
    "    ax.add_artist(e)\n",
    "    e.set_clip_box(ax.bbox)\n",
    "\n",
    "    dx = ep[0] + 1\n",
    "    dy = ep[1] + 1\n",
    "    ax.set_xlim(-dx, dx)\n",
    "    ax.set_ylim(-dy, dy)\n",
    "    ax.set_xlabel('X os', fontsize=14)\n",
    "    ax.set_ylabel('Y os', fontsize=14)\n",
    "    # ax.grid(True)\n",
    "    ax.axis('equal')\n",
    "\n",
    "    plt.scatter(points[0,:], points[1,:])\n",
    "\n",
    "    plt.show()"
   ]
  },
  {
   "cell_type": "code",
   "execution_count": 75,
   "metadata": {},
   "outputs": [],
   "source": [
    "def getRandomElipsoid( ep, numPoints ):\n",
    "    d = np.size(ep)\n",
    "    ep.shape=(d,1)\n",
    "    u = np.random.normal(0,1,(d,numPoints))  # an array of d normally distributed random variables\n",
    "    norm=np.sqrt(np.sum(u**2, axis = 0))\n",
    "    r = np.random.rand(1,numPoints)**(1.0/d)\n",
    "    unif_sph = r*u/norm\n",
    "    \n",
    "    S = np.diagflat(ep**2)\n",
    "    T = scipy.linalg.cholesky(S, lower=True)\n",
    "    return np.dot(T,unif_sph)\n",
    "\n",
    "# print( getRandomElipsoid(np.array([1,3]), 20) )"
   ]
  },
  {
   "cell_type": "code",
   "execution_count": 76,
   "metadata": {},
   "outputs": [],
   "source": [
    "def fitEllipsoid1(points, elipsoidParameters):\n",
    "    d = np.size(elipsoidParameters)\n",
    "    elipsoidParameters.shape=(d,1)\n",
    "    max_dist = np.max( np.sum(np.square(np.divide(points,elipsoidParameters)),0) )\n",
    "    increase_factor = math.sqrt(max_dist)\n",
    "    new_ellipsoid_parameters = increase_factor*elipsoidParameters\n",
    "    return new_ellipsoid_parameters\n",
    "    # Ellipsoid method is much better!! "
   ]
  },
  {
   "cell_type": "code",
   "execution_count": 77,
   "metadata": {},
   "outputs": [
    {
     "name": "stdout",
     "output_type": "stream",
     "text": [
      "(2, 250)\n"
     ]
    }
   ],
   "source": [
    "points_random = getRandomElipsoid( ep=np.array([3,1]), numPoints=250 )\n",
    "print(points_random.shape)"
   ]
  },
  {
   "cell_type": "code",
   "execution_count": 78,
   "metadata": {},
   "outputs": [
    {
     "data": {
      "image/png": "[encoded data removed]",
      "text/plain": [
       "<Figure size 432x288 with 1 Axes>"
      ]
     },
     "metadata": {
      "needs_background": "light"
     },
     "output_type": "display_data"
    }
   ],
   "source": [
    "# points = np.array([[1,1.01,0.5,0],[0,0,2,3.01]]) # three points\n",
    "elipseParameters = np.array([3,1])\n",
    "\n",
    "visualizeEllipse( elipseParameters, points_random )"
   ]
  },
  {
   "cell_type": "code",
   "execution_count": 79,
   "metadata": {},
   "outputs": [
    {
     "name": "stdout",
     "output_type": "stream",
     "text": [
      "(3, 500)\n"
     ]
    }
   ],
   "source": [
    "points_random = getRandomElipsoid( ep=np.array([4,2,1]), numPoints=500 )\n",
    "print(points_random.shape)"
   ]
  },
  {
   "cell_type": "code",
   "execution_count": 81,
   "metadata": {},
   "outputs": [
    {
     "data": {
      "image/png": "[encoded data removed]",
      "text/plain": [
       "<Figure size 288x288 with 1 Axes>"
      ]
     },
     "metadata": {
      "needs_background": "light"
     },
     "output_type": "display_data"
    }
   ],
   "source": [
    "# plot 3d ellipsoid\n",
    "\n",
    "from mpl_toolkits.mplot3d import Axes3D\n",
    "import matplotlib.pyplot as plt\n",
    "import numpy as np\n",
    "\n",
    "fig = plt.figure(figsize=plt.figaspect(1))  # Square figure\n",
    "ax = fig.add_subplot(111, projection='3d')\n",
    "\n",
    "# coefs = (1/4, 1, 1)  # Coefficients in a0/c x**2 + a1/c y**2 + a2/c z**2 = 1 \n",
    "# Radii corresponding to the coefficients:\n",
    "# rx, ry, rz = 1/np.sqrt(coefs)\n",
    "\n",
    "rx, ry, rz = (4, 2, 1)\n",
    "\n",
    "# Set of all spherical angles:\n",
    "u = np.linspace(0, 2 * np.pi, 100)\n",
    "v = np.linspace(0, np.pi, 100)\n",
    "\n",
    "# Cartesian coordinates that correspond to the spherical angles:\n",
    "# (this is the equation of an ellipsoid):\n",
    "x = rx * np.outer(np.cos(u), np.sin(v))\n",
    "y = ry * np.outer(np.sin(u), np.sin(v))\n",
    "z = rz * np.outer(np.ones_like(u), np.cos(v))\n",
    "\n",
    "# Plot:\n",
    "ax.plot_surface(x, y, z,  rstride=4, cstride=4, color='r',  alpha=0.15)\n",
    "\n",
    "# Adjustment of the axes, so that they all have the same span:\n",
    "max_radius = max(rx, ry, rz)\n",
    "for axis in 'xyz':\n",
    "    getattr(ax, 'set_{}lim'.format(axis))((-max_radius, max_radius))\n",
    "\n",
    "    \n",
    "\n",
    "ax.scatter3D( points_random[0,:].T, points_random[1,:].T, points_random[2,:].T, c='blue', s=4 )\n",
    "ax.set_xlabel('X os')\n",
    "ax.set_ylabel('Y os')\n",
    "ax.set_zlabel('Z os')\n",
    "\n",
    "\n",
    "plt.grid()\n",
    "\n",
    "plt.show()"
   ]
  },
  {
   "cell_type": "code",
   "execution_count": 82,
   "metadata": {},
   "outputs": [
    {
     "name": "stdout",
     "output_type": "stream",
     "text": [
      "(30, 1000000)\n"
     ]
    }
   ],
   "source": [
    "# Speed test:\n",
    "points_random = getRandomElipsoid( ep=getRandomUniformSpans(numOfDims=30, low=1, high=100), numPoints=1000000 )\n",
    "print(points_random.shape)\n",
    "\n",
    "# Should not be a problem."
   ]
  },
  {
   "cell_type": "code",
   "execution_count": null,
   "metadata": {},
   "outputs": [],
   "source": []
  }
 ],
 "metadata": {
  "kernelspec": {
   "display_name": "Python 3",
   "language": "python",
   "name": "python3"
  },
  "language_info": {
   "codemirror_mode": {
    "name": "ipython",
    "version": 3
   },
   "file_extension": ".py",
   "mimetype": "text/x-python",
   "name": "python",
   "nbconvert_exporter": "python",
   "pygments_lexer": "ipython3",
   "version": "3.7.6"
  }
 },
 "nbformat": 4,
 "nbformat_minor": 2
}
